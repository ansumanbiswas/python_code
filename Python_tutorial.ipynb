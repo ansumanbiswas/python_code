{
 "cells": [
  {
   "cell_type": "code",
   "execution_count": 1,
   "metadata": {},
   "outputs": [
    {
     "name": "stdout",
     "output_type": "stream",
     "text": [
      "[0, 1, 2, 3, 4, 5]\n"
     ]
    },
    {
     "ename": "TypeError",
     "evalue": "add_edge() takes exactly 3 arguments (7 given)",
     "output_type": "error",
     "traceback": [
      "\u001b[0;31m---------------------------------------------------------------------------\u001b[0m",
      "\u001b[0;31mTypeError\u001b[0m                                 Traceback (most recent call last)",
      "\u001b[0;32m<ipython-input-1-f67d0cd3831d>\u001b[0m in \u001b[0;36m<module>\u001b[0;34m()\u001b[0m\n\u001b[1;32m      3\u001b[0m \u001b[0mG\u001b[0m\u001b[0;34m.\u001b[0m\u001b[0madd_nodes_from\u001b[0m\u001b[0;34m(\u001b[0m\u001b[0;34m[\u001b[0m\u001b[0;36m0\u001b[0m\u001b[0;34m,\u001b[0m\u001b[0;36m1\u001b[0m\u001b[0;34m,\u001b[0m\u001b[0;36m2\u001b[0m\u001b[0;34m,\u001b[0m\u001b[0;36m3\u001b[0m\u001b[0;34m,\u001b[0m\u001b[0;36m4\u001b[0m\u001b[0;34m,\u001b[0m\u001b[0;36m5\u001b[0m\u001b[0;34m]\u001b[0m\u001b[0;34m)\u001b[0m\u001b[0;34m\u001b[0m\u001b[0m\n\u001b[1;32m      4\u001b[0m \u001b[0;32mprint\u001b[0m\u001b[0;34m(\u001b[0m\u001b[0mG\u001b[0m\u001b[0;34m.\u001b[0m\u001b[0mnodes\u001b[0m\u001b[0;34m(\u001b[0m\u001b[0;34m)\u001b[0m\u001b[0;34m)\u001b[0m\u001b[0;34m\u001b[0m\u001b[0m\n\u001b[0;32m----> 5\u001b[0;31m \u001b[0mG\u001b[0m\u001b[0;34m.\u001b[0m\u001b[0madd_edge\u001b[0m\u001b[0;34m(\u001b[0m\u001b[0;34m(\u001b[0m\u001b[0;36m0\u001b[0m\u001b[0;34m,\u001b[0m\u001b[0;36m1\u001b[0m\u001b[0;34m)\u001b[0m\u001b[0;34m,\u001b[0m\u001b[0;34m(\u001b[0m\u001b[0;36m1\u001b[0m\u001b[0;34m,\u001b[0m\u001b[0;36m2\u001b[0m\u001b[0;34m)\u001b[0m\u001b[0;34m,\u001b[0m\u001b[0;34m(\u001b[0m\u001b[0;36m1\u001b[0m\u001b[0;34m,\u001b[0m\u001b[0;36m3\u001b[0m\u001b[0;34m)\u001b[0m\u001b[0;34m,\u001b[0m\u001b[0;34m(\u001b[0m\u001b[0;36m1\u001b[0m\u001b[0;34m,\u001b[0m\u001b[0;36m4\u001b[0m\u001b[0;34m)\u001b[0m\u001b[0;34m,\u001b[0m\u001b[0;34m(\u001b[0m\u001b[0;36m4\u001b[0m\u001b[0;34m,\u001b[0m\u001b[0;36m3\u001b[0m\u001b[0;34m)\u001b[0m\u001b[0;34m,\u001b[0m\u001b[0;34m(\u001b[0m\u001b[0;36m3\u001b[0m\u001b[0;34m,\u001b[0m\u001b[0;36m5\u001b[0m\u001b[0;34m)\u001b[0m\u001b[0;34m)\u001b[0m\u001b[0;34m\u001b[0m\u001b[0m\n\u001b[0m\u001b[1;32m      6\u001b[0m \u001b[0;32mprint\u001b[0m\u001b[0;34m(\u001b[0m\u001b[0mG\u001b[0m\u001b[0;34m.\u001b[0m\u001b[0medges\u001b[0m\u001b[0;34m(\u001b[0m\u001b[0;34m)\u001b[0m\u001b[0;34m)\u001b[0m\u001b[0;34m\u001b[0m\u001b[0m\n",
      "\u001b[0;31mTypeError\u001b[0m: add_edge() takes exactly 3 arguments (7 given)"
     ]
    }
   ],
   "source": [
    "import networkx as nx\n",
    "G = nx.Graph()\n",
    "G.add_nodes_from([0,1,2,3,4,5])\n",
    "print(G.nodes())\n",
    "G.add_edge((0,1),(1,2),(1,3),(1,4),(4,3),(3,5))\n",
    "print(G.edges())"
   ]
  },
  {
   "cell_type": "code",
   "execution_count": 2,
   "metadata": {},
   "outputs": [
    {
     "name": "stdout",
     "output_type": "stream",
     "text": [
      "25\n"
     ]
    }
   ],
   "source": [
    "print (7+18)"
   ]
  },
  {
   "cell_type": "code",
   "execution_count": 3,
   "metadata": {},
   "outputs": [
    {
     "name": "stdout",
     "output_type": "stream",
     "text": [
      "1\n"
     ]
    }
   ],
   "source": [
    "print (15/8)"
   ]
  },
  {
   "cell_type": "code",
   "execution_count": 4,
   "metadata": {},
   "outputs": [
    {
     "name": "stdout",
     "output_type": "stream",
     "text": [
      "8\n"
     ]
    }
   ],
   "source": [
    "print (2**3)"
   ]
  },
  {
   "cell_type": "code",
   "execution_count": 5,
   "metadata": {},
   "outputs": [
    {
     "name": "stdout",
     "output_type": "stream",
     "text": [
      "194.87171\n"
     ]
    }
   ],
   "source": [
    "savings = 100\n",
    "factor = 1.10\n",
    "result = savings*factor**7\n",
    "print(result)"
   ]
  },
  {
   "cell_type": "code",
   "execution_count": 12,
   "metadata": {},
   "outputs": [
    {
     "name": "stdout",
     "output_type": "stream",
     "text": [
      "<type 'bool'>\n"
     ]
    }
   ],
   "source": [
    "savings = 100\n",
    "factor = 1.10\n",
    "result = 'Yes'\n",
    "result1 = True\n",
    "print(type(result1))"
   ]
  },
  {
   "cell_type": "code",
   "execution_count": 11,
   "metadata": {},
   "outputs": [
    {
     "name": "stdout",
     "output_type": "stream",
     "text": [
      "yesno\n"
     ]
    }
   ],
   "source": [
    "result =\"yes\"\n",
    "result1 = \"no\"\n",
    "add = result + result1\n",
    "print(add)"
   ]
  },
  {
   "cell_type": "code",
   "execution_count": 13,
   "metadata": {},
   "outputs": [
    {
     "name": "stdout",
     "output_type": "stream",
     "text": [
      "<type 'list'>\n"
     ]
    }
   ],
   "source": [
    "fam = [1.73, 1.68, 1.71, 1.89]\n",
    "print(type(fam))"
   ]
  },
  {
   "cell_type": "code",
   "execution_count": 14,
   "metadata": {},
   "outputs": [
    {
     "name": "stdout",
     "output_type": "stream",
     "text": [
      "[['hallway', 11.25], ['kitchen', 18.0]]\n",
      "<type 'list'>\n"
     ]
    }
   ],
   "source": [
    "hall = 11.25\n",
    "kit = 18.0\n",
    "house = [[\"hallway\",hall], [\"kitchen\",kit]]\n",
    "print(house)\n",
    "print(type(house))"
   ]
  },
  {
   "cell_type": "code",
   "execution_count": 27,
   "metadata": {},
   "outputs": [
    {
     "name": "stdout",
     "output_type": "stream",
     "text": [
      "bd\n",
      "['b', 'c']\n",
      "['a', 'b']\n",
      "['c', 'd']\n",
      "['a', 'b', 'c', 'd']\n"
     ]
    }
   ],
   "source": [
    "x = [\"a\",\"b\",\"c\",\"d\"]\n",
    "print((x[1]+x[-1]))\n",
    "print(x[1:3])\n",
    "print(x[:2])\n",
    "print(x[2:])\n",
    "print(x[:])"
   ]
  },
  {
   "cell_type": "code",
   "execution_count": 30,
   "metadata": {},
   "outputs": [
    {
     "name": "stdout",
     "output_type": "stream",
     "text": [
      "b\n"
     ]
    }
   ],
   "source": [
    "x = [['a','b','c'],['d','e','f']]\n",
    "print(x[0][1])"
   ]
  },
  {
   "cell_type": "code",
   "execution_count": 33,
   "metadata": {},
   "outputs": [
    {
     "name": "stdout",
     "output_type": "stream",
     "text": [
      "['x', 11.25, 'z', 10.5]\n",
      "<type 'list'>\n"
     ]
    }
   ],
   "source": [
    "areas = ['x',11.25,'z',18.0]\n",
    "areas[-1] = 10.50\n",
    "areas[2] = 'z'\n",
    "print(areas)\n",
    "print(type(areas))"
   ]
  },
  {
   "cell_type": "code",
   "execution_count": 44,
   "metadata": {},
   "outputs": [
    {
     "name": "stdout",
     "output_type": "stream",
     "text": [
      "['b', 'c', 'd', 'e', 'f']\n"
     ]
    }
   ],
   "source": [
    "x = ['a','b','c','d']\n",
    "y = x + ['e','f']\n",
    "del(y[0])\n",
    "print(y)"
   ]
  },
  {
   "cell_type": "code",
   "execution_count": 35,
   "metadata": {},
   "outputs": [
    {
     "name": "stdout",
     "output_type": "stream",
     "text": [
      "3\n"
     ]
    }
   ],
   "source": [
    "z = 'classification'\n",
    "print(z.count('i'))"
   ]
  },
  {
   "cell_type": "code",
   "execution_count": 9,
   "metadata": {},
   "outputs": [
    {
     "name": "stdout",
     "output_type": "stream",
     "text": [
      "1.89\n",
      "1.68\n",
      "4\n"
     ]
    }
   ],
   "source": [
    "fam = [1.73, 1.68, 1.71, 1.89]\n",
    "print(max(fam))\n",
    "print(min(fam))\n",
    "print(len(fam))"
   ]
  },
  {
   "cell_type": "code",
   "execution_count": 3,
   "metadata": {},
   "outputs": [
    {
     "data": {
      "text/plain": [
       "1.7"
      ]
     },
     "execution_count": 3,
     "metadata": {},
     "output_type": "execute_result"
    }
   ],
   "source": [
    "round(1.68,1)"
   ]
  },
  {
   "cell_type": "code",
   "execution_count": 4,
   "metadata": {},
   "outputs": [
    {
     "data": {
      "text/plain": [
       "1.68"
      ]
     },
     "execution_count": 4,
     "metadata": {},
     "output_type": "execute_result"
    }
   ],
   "source": [
    "round(1.68,2)"
   ]
  },
  {
   "cell_type": "code",
   "execution_count": 5,
   "metadata": {},
   "outputs": [
    {
     "data": {
      "text/plain": [
       "2.0"
      ]
     },
     "execution_count": 5,
     "metadata": {},
     "output_type": "execute_result"
    }
   ],
   "source": [
    "round(1.68)"
   ]
  },
  {
   "cell_type": "code",
   "execution_count": 6,
   "metadata": {},
   "outputs": [
    {
     "data": {
      "text/plain": [
       "1.0"
      ]
     },
     "execution_count": 6,
     "metadata": {},
     "output_type": "execute_result"
    }
   ],
   "source": [
    "round(1.48)"
   ]
  },
  {
   "cell_type": "code",
   "execution_count": 7,
   "metadata": {},
   "outputs": [
    {
     "data": {
      "text/plain": [
       "1.5"
      ]
     },
     "execution_count": 7,
     "metadata": {},
     "output_type": "execute_result"
    }
   ],
   "source": [
    "round(1.48,1)"
   ]
  },
  {
   "cell_type": "code",
   "execution_count": 8,
   "metadata": {},
   "outputs": [
    {
     "data": {
      "text/plain": [
       "2.0"
      ]
     },
     "execution_count": 8,
     "metadata": {},
     "output_type": "execute_result"
    }
   ],
   "source": [
    "round(1.88)"
   ]
  },
  {
   "cell_type": "code",
   "execution_count": 14,
   "metadata": {},
   "outputs": [
    {
     "name": "stdout",
     "output_type": "stream",
     "text": [
      "-16\n",
      "-16.8\n",
      "True\n"
     ]
    }
   ],
   "source": [
    "var = -16.8\n",
    "out = int(var)\n",
    "out1 = float(var)\n",
    "out2 = bool(var)\n",
    "print(out)\n",
    "print(out1)\n",
    "print(out2)"
   ]
  },
  {
   "cell_type": "code",
   "execution_count": 15,
   "metadata": {},
   "outputs": [
    {
     "name": "stdout",
     "output_type": "stream",
     "text": [
      "(2+8j)\n"
     ]
    }
   ],
   "source": [
    "var = complex(2,8)\n",
    "print(var)"
   ]
  },
  {
   "cell_type": "code",
   "execution_count": 16,
   "metadata": {},
   "outputs": [
    {
     "name": "stdout",
     "output_type": "stream",
     "text": [
      "[8, 7, 5, 3, 2, 1]\n"
     ]
    }
   ],
   "source": [
    "full = [2,5,7,1,3,8]\n",
    "full_sorted = sorted(full, reverse= True)\n",
    "print(full_sorted)"
   ]
  },
  {
   "cell_type": "code",
   "execution_count": 17,
   "metadata": {},
   "outputs": [
    {
     "name": "stdout",
     "output_type": "stream",
     "text": [
      "[1, 2, 3, 5, 7, 8]\n"
     ]
    }
   ],
   "source": [
    "full = [2,5,7,1,3,8]\n",
    "full_sorted = sorted(full, reverse= False)\n",
    "print(full_sorted)"
   ]
  },
  {
   "cell_type": "code",
   "execution_count": 19,
   "metadata": {},
   "outputs": [
    {
     "name": "stdout",
     "output_type": "stream",
     "text": [
      "4\n",
      "1\n"
     ]
    }
   ],
   "source": [
    "full = [2,5,7,1,3,8]\n",
    "print(full.index(3))\n",
    "print(full.count(7))"
   ]
  },
  {
   "cell_type": "code",
   "execution_count": 21,
   "metadata": {},
   "outputs": [
    {
     "name": "stdout",
     "output_type": "stream",
     "text": [
      "[2, 5, 7, 1, 3, 8, 'mom']\n"
     ]
    }
   ],
   "source": [
    "full = [2,5,7,1,3,8]\n",
    "full.append('mom')\n",
    "print(full)"
   ]
  },
  {
   "cell_type": "code",
   "execution_count": 23,
   "metadata": {},
   "outputs": [
    {
     "name": "stdout",
     "output_type": "stream",
     "text": [
      "[8, 3, 1, 7, 5, 2]\n"
     ]
    }
   ],
   "source": [
    "full = [2,5,7,1,3,8]\n",
    "full.reverse()\n",
    "print(full)"
   ]
  },
  {
   "cell_type": "code",
   "execution_count": 25,
   "metadata": {},
   "outputs": [
    {
     "name": "stdout",
     "output_type": "stream",
     "text": [
      "[2 1 3]\n"
     ]
    }
   ],
   "source": [
    "import numpy as np\n",
    "full = np.array([2,5,7,1,3,8])\n",
    "full_small = full[full<5]\n",
    "print(full_small)"
   ]
  },
  {
   "cell_type": "code",
   "execution_count": 36,
   "metadata": {},
   "outputs": [
    {
     "name": "stdout",
     "output_type": "stream",
     "text": [
      "[  2.8          0.536        0.5244898   12.4          1.21111111\n",
      "   0.1390625 ]\n",
      "[ 13.2  18.4  32.7  13.4  13.9  16.9]\n",
      "[ True False False False  True  True]\n",
      "[ 11.2  10.9   8.9]\n",
      "[ 11.2  13.4  25.7  12.4  10.9   8.9]\n",
      "25.7\n",
      "[ 13.4  25.7]\n"
     ]
    }
   ],
   "source": [
    "# 1d array\n",
    "import numpy as np\n",
    "full = [2,5,7,1,3,8]\n",
    "full2 = [11.2, 13.4, 25.7, 12.4, 10.9, 8.9]\n",
    "full_a = np.array(full)\n",
    "full_b = np.array(full2)\n",
    "x = full_b/full_a**2\n",
    "y = full_a + full_b\n",
    "z = full_b < 12.0\n",
    "z1 = full_b[full_b < 12.0]\n",
    "print(x)\n",
    "print(y)\n",
    "print (z)\n",
    "print (z1)\n",
    "print (full_b)\n",
    "print (full_b[2])\n",
    "print (full_b[1:3])"
   ]
  },
  {
   "cell_type": "code",
   "execution_count": 48,
   "metadata": {},
   "outputs": [
    {
     "name": "stdout",
     "output_type": "stream",
     "text": [
      "(4, 2)\n",
      "[[ 180.    78.4]\n",
      " [ 215.   102.7]\n",
      " [ 210.    98.2]\n",
      " [ 188.    75.2]]\n",
      "[ 180.    78.4]\n",
      "98.2\n",
      "98.2\n",
      "[  78.4  102.7]\n"
     ]
    }
   ],
   "source": [
    "# 2d array\n",
    "baseball = [[180, 78.4], [215, 102.7], [210,98.2], [188,75.2]]\n",
    "import numpy as np\n",
    "np_baseball = np.array(baseball)\n",
    "print(np_baseball.shape)\n",
    "print(np_baseball)\n",
    "print(np_baseball[0])\n",
    "print(np_baseball[2][1])\n",
    "print(np_baseball[2,1])\n",
    "print(np_baseball[0:2,1])"
   ]
  },
  {
   "cell_type": "code",
   "execution_count": 4,
   "metadata": {},
   "outputs": [
    {
     "name": "stdout",
     "output_type": "stream",
     "text": [
      "198.25\n",
      "199.0\n",
      "[[ 1.          0.95847008]\n",
      " [ 0.95847008  1.        ]]\n",
      "14.6351460533\n"
     ]
    }
   ],
   "source": [
    "# basic statistics using numpy array\n",
    "baseball = [[180, 78.4], [215, 102.7], [210,98.2], [188,75.2]]\n",
    "import numpy as np\n",
    "np_baseball = np.array(baseball)\n",
    "print(np.mean(np_baseball[:,0]))\n",
    "print(np.median(np_baseball[:,0]))\n",
    "print(np.corrcoef(np_baseball[:,0],np_baseball[:,1]))\n",
    "print(np.std(np_baseball[:,0]))\n"
   ]
  },
  {
   "cell_type": "code",
   "execution_count": 13,
   "metadata": {},
   "outputs": [
    {
     "name": "stdout",
     "output_type": "stream",
     "text": [
      "[[  1.41  39.29]\n",
      " [  1.63  84.24]\n",
      " [  1.8   46.49]\n",
      " ..., \n",
      " [  1.63  82.41]\n",
      " [  1.49  54.22]\n",
      " [  1.55  51.34]]\n"
     ]
    }
   ],
   "source": [
    "#generating data\n",
    "import numpy as np\n",
    "height = np.round(np.random.normal(1.75,0.20,5000),2)\n",
    "weight = np.round(np.random.normal(60.32,15,5000),2)\n",
    "np_city = np.column_stack((height, weight))\n",
    "print(np_city)"
   ]
  },
  {
   "cell_type": "code",
   "execution_count": 15,
   "metadata": {},
   "outputs": [
    {
     "data": {
      "image/png": "[encoded data removed]",
      "text/plain": [
       "<matplotlib.figure.Figure at 0x7f054593e810>"
      ]
     },
     "metadata": {},
     "output_type": "display_data"
    }
   ],
   "source": [
    "#visualization\n",
    "import matplotlib.pyplot as plt\n",
    "year = [1950, 1970, 1990, 2010]\n",
    "pop = [2.519, 3.692, 5.263, 6.972]\n",
    "plt.plot(year, pop)\n",
    "plt.scatter(year, pop)\n",
    "plt.show()"
   ]
  },
  {
   "cell_type": "code",
   "execution_count": 25,
   "metadata": {},
   "outputs": [
    {
     "name": "stdout",
     "output_type": "stream",
     "text": [
      "2.77\n",
      "{'afghanistan': 30.55, 'albania': 2.8, 'algeria': 39.21}\n",
      "['norway', 'germany', 'spain', 'france']\n",
      "oslo\n",
      "{'norway': 'oslo', 'germany': 'berlin', 'spain': 'madrid'}\n",
      "{'norway': 'oslo', 'italy': 'rome', 'germany': 'berlin', 'spain': 'madrid'}\n"
     ]
    }
   ],
   "source": [
    "#dictionary\n",
    "world = { \"afghanistan\":30.55, \"albania\":2.77, \"algeria\":39.21 }\n",
    "print(world[\"albania\"])\n",
    "#change values\n",
    "world[\"albania\"] = 2.8\n",
    "print(world)\n",
    "\n",
    "# Definition of dictionary\n",
    "europe = {'spain':'madrid', 'france':'paris', 'germany':'berlin', 'norway':'oslo' }\n",
    "\n",
    "# Print out the keys in europe\n",
    "print(europe.keys())\n",
    "\n",
    "# Print out value that belongs to key 'norway'\n",
    "print(europe['norway'])\n",
    "'spain' in europe\n",
    "del(europe['france'])\n",
    "print(europe)\n",
    "# Add italy to europe\n",
    "europe['italy'] = 'rome'\n",
    "print(europe)"
   ]
  },
  {
   "cell_type": "code",
   "execution_count": 30,
   "metadata": {},
   "outputs": [
    {
     "name": "stdout",
     "output_type": "stream",
     "text": [
      "paris\n"
     ]
    }
   ],
   "source": [
    "# Dictionary of dictionaries\n",
    "europe = { 'spain': { 'capital':'madrid', 'population':46.77 },\n",
    "           'france': { 'capital':'paris', 'population':66.03 },\n",
    "           'germany': { 'capital':'berlin', 'population':80.62 },\n",
    "           'norway': { 'capital':'oslo', 'population':5.084 } }\n",
    "print(europe['france']['capital'])"
   ]
  },
  {
   "cell_type": "code",
   "execution_count": 1,
   "metadata": {},
   "outputs": [
    {
     "name": "stdout",
     "output_type": "stream",
     "text": [
      "{'country': ['Brazil', 'Russia', 'India', 'China', 'South Africa'], 'population': [200.4, 143.5, 1252, 1357, 52.98], 'area': [8.516, 17.1, 3.286, 9.597, 1.221], 'capital': ['Brasilia', 'Moscow', 'New Delhi', 'Beijing', 'Pretoria']}\n",
      "     area    capital       country  population\n",
      "0   8.516   Brasilia        Brazil      200.40\n",
      "1  17.100     Moscow        Russia      143.50\n",
      "2   3.286  New Delhi         India     1252.00\n",
      "3   9.597    Beijing         China     1357.00\n",
      "4   1.221   Pretoria  South Africa       52.98\n",
      "{'country': ['United States', 'Australia', 'Japan', 'India', 'Russia', 'Morocco', 'Egypt'], 'cars_per_cap': [809, 731, 588, 18, 200, 70, 45], 'drives_right': [True, False, False, False, True, True, True]}\n",
      "   cars_per_cap        country  drives_right\n",
      "0           809  United States          True\n",
      "1           731      Australia         False\n",
      "2           588          Japan         False\n",
      "3            18          India         False\n",
      "4           200         Russia          True\n",
      "5            70        Morocco          True\n",
      "6            45          Egypt          True\n",
      "     cars_per_cap        country  drives_right\n",
      "US            809  United States          True\n",
      "AUS           731      Australia         False\n",
      "JAP           588          Japan         False\n",
      "IN             18          India         False\n",
      "RU            200         Russia          True\n",
      "MOR            70        Morocco          True\n",
      "EG             45          Egypt          True\n"
     ]
    }
   ],
   "source": [
    "#pandas (the 2d numpy array can only accommodate one type of data, panda can accommodate different data types)\n",
    "#dataframe from dictionary\n",
    "dict = {\n",
    "\"country\":[\"Brazil\", \"Russia\", \"India\", \"China\", \"South Africa\"],\n",
    "\"capital\":[\"Brasilia\", \"Moscow\", \"New Delhi\", \"Beijing\", \"Pretoria\"],\n",
    "\"area\":[8.516, 17.10, 3.286, 9.597, 1.221],\n",
    "\"population\":[200.4, 143.5, 1252, 1357, 52.98] }\n",
    "print(dict)\n",
    "import pandas as pd\n",
    "brics = pd.DataFrame(dict)\n",
    "print(brics)\n",
    "\n",
    "#dataframe from list\n",
    "# Pre-defined lists\n",
    "names = ['United States', 'Australia', 'Japan', 'India', 'Russia', 'Morocco', 'Egypt']\n",
    "dr =  [True, False, False, False, True, True, True]\n",
    "cpc = [809, 731, 588, 18, 200, 70, 45]\n",
    "# Create dictionary my_dict with three key:value pairs: my_dict\n",
    "my_dict = { 'country':names, 'drives_right':dr, 'cars_per_cap':cpc }\n",
    "print(my_dict)\n",
    "cars = pd.DataFrame(my_dict)\n",
    "print(cars)\n",
    "row_labels = ['US', 'AUS', 'JAP', 'IN', 'RU', 'MOR', 'EG']\n",
    "cars.index = row_labels\n",
    "print(cars)\n",
    "# Import the cars.csv data: cars\n",
    "#cars = pd.read_csv('cars.csv')\n",
    "# Fix import by including index_col\n",
    "#cars = pd.read_csv('cars.csv', index_col=0)\n",
    "#answer without index_col and with index_col\n",
    "#  Unnamed: 0  cars_per_cap        country drives_right\n",
    "#0         US           809  United States         True\n",
    "#1        AUS           731      Australia        False\n",
    "#2        JAP           588          Japan        False\n",
    "#3         IN            18          India        False\n",
    "#4         RU           200         Russia         True\n",
    "#5        MOR            70        Morocco         True\n",
    "#6         EG            45          Egypt         True\n",
    "\n",
    "#     cars_per_cap        country drives_right\n",
    "#US            809  United States         True\n",
    "#AUS           731      Australia        False\n",
    "#JAP           588          Japan        False\n",
    "#IN             18          India        False\n",
    "#RU            200         Russia         True\n",
    "#MOR            70        Morocco         True\n",
    "#EG             45          Egypt         True"
   ]
  },
  {
   "cell_type": "code",
   "execution_count": 3,
   "metadata": {},
   "outputs": [
    {
     "name": "stdout",
     "output_type": "stream",
     "text": [
      "[(0, 0, 0, 0, 0, 0, 0, 0), (0, 0, 0, 0, 0, 0, 0, 1), (0, 0, 0, 0, 0, 0, 1, 0), (0, 0, 0, 0, 0, 0, 1, 1), (0, 0, 0, 0, 0, 1, 0, 0), (0, 0, 0, 0, 0, 1, 0, 1), (0, 0, 0, 0, 0, 1, 1, 0), (0, 0, 0, 0, 0, 1, 1, 1), (0, 0, 0, 0, 1, 0, 0, 0), (0, 0, 0, 0, 1, 0, 0, 1), (0, 0, 0, 0, 1, 0, 1, 0), (0, 0, 0, 0, 1, 0, 1, 1), (0, 0, 0, 0, 1, 1, 0, 0), (0, 0, 0, 0, 1, 1, 0, 1), (0, 0, 0, 0, 1, 1, 1, 0), (0, 0, 0, 0, 1, 1, 1, 1), (0, 0, 0, 1, 0, 0, 0, 0), (0, 0, 0, 1, 0, 0, 0, 1), (0, 0, 0, 1, 0, 0, 1, 0), (0, 0, 0, 1, 0, 0, 1, 1), (0, 0, 0, 1, 0, 1, 0, 0), (0, 0, 0, 1, 0, 1, 0, 1), (0, 0, 0, 1, 0, 1, 1, 0), (0, 0, 0, 1, 0, 1, 1, 1), (0, 0, 0, 1, 1, 0, 0, 0), (0, 0, 0, 1, 1, 0, 0, 1), (0, 0, 0, 1, 1, 0, 1, 0), (0, 0, 0, 1, 1, 0, 1, 1), (0, 0, 0, 1, 1, 1, 0, 0), (0, 0, 0, 1, 1, 1, 0, 1), (0, 0, 0, 1, 1, 1, 1, 0), (0, 0, 0, 1, 1, 1, 1, 1), (0, 0, 1, 0, 0, 0, 0, 0), (0, 0, 1, 0, 0, 0, 0, 1), (0, 0, 1, 0, 0, 0, 1, 0), (0, 0, 1, 0, 0, 0, 1, 1), (0, 0, 1, 0, 0, 1, 0, 0), (0, 0, 1, 0, 0, 1, 0, 1), (0, 0, 1, 0, 0, 1, 1, 0), (0, 0, 1, 0, 0, 1, 1, 1), (0, 0, 1, 0, 1, 0, 0, 0), (0, 0, 1, 0, 1, 0, 0, 1), (0, 0, 1, 0, 1, 0, 1, 0), (0, 0, 1, 0, 1, 0, 1, 1), (0, 0, 1, 0, 1, 1, 0, 0), (0, 0, 1, 0, 1, 1, 0, 1), (0, 0, 1, 0, 1, 1, 1, 0), (0, 0, 1, 0, 1, 1, 1, 1), (0, 0, 1, 1, 0, 0, 0, 0), (0, 0, 1, 1, 0, 0, 0, 1), (0, 0, 1, 1, 0, 0, 1, 0), (0, 0, 1, 1, 0, 0, 1, 1), (0, 0, 1, 1, 0, 1, 0, 0), (0, 0, 1, 1, 0, 1, 0, 1), (0, 0, 1, 1, 0, 1, 1, 0), (0, 0, 1, 1, 0, 1, 1, 1), (0, 0, 1, 1, 1, 0, 0, 0), (0, 0, 1, 1, 1, 0, 0, 1), (0, 0, 1, 1, 1, 0, 1, 0), (0, 0, 1, 1, 1, 0, 1, 1), (0, 0, 1, 1, 1, 1, 0, 0), (0, 0, 1, 1, 1, 1, 0, 1), (0, 0, 1, 1, 1, 1, 1, 0), (0, 0, 1, 1, 1, 1, 1, 1), (0, 1, 0, 0, 0, 0, 0, 0), (0, 1, 0, 0, 0, 0, 0, 1), (0, 1, 0, 0, 0, 0, 1, 0), (0, 1, 0, 0, 0, 0, 1, 1), (0, 1, 0, 0, 0, 1, 0, 0), (0, 1, 0, 0, 0, 1, 0, 1), (0, 1, 0, 0, 0, 1, 1, 0), (0, 1, 0, 0, 0, 1, 1, 1), (0, 1, 0, 0, 1, 0, 0, 0), (0, 1, 0, 0, 1, 0, 0, 1), (0, 1, 0, 0, 1, 0, 1, 0), (0, 1, 0, 0, 1, 0, 1, 1), (0, 1, 0, 0, 1, 1, 0, 0), (0, 1, 0, 0, 1, 1, 0, 1), (0, 1, 0, 0, 1, 1, 1, 0), (0, 1, 0, 0, 1, 1, 1, 1), (0, 1, 0, 1, 0, 0, 0, 0), (0, 1, 0, 1, 0, 0, 0, 1), (0, 1, 0, 1, 0, 0, 1, 0), (0, 1, 0, 1, 0, 0, 1, 1), (0, 1, 0, 1, 0, 1, 0, 0), (0, 1, 0, 1, 0, 1, 0, 1), (0, 1, 0, 1, 0, 1, 1, 0), (0, 1, 0, 1, 0, 1, 1, 1), (0, 1, 0, 1, 1, 0, 0, 0), (0, 1, 0, 1, 1, 0, 0, 1), (0, 1, 0, 1, 1, 0, 1, 0), (0, 1, 0, 1, 1, 0, 1, 1), (0, 1, 0, 1, 1, 1, 0, 0), (0, 1, 0, 1, 1, 1, 0, 1), (0, 1, 0, 1, 1, 1, 1, 0), (0, 1, 0, 1, 1, 1, 1, 1), (0, 1, 1, 0, 0, 0, 0, 0), (0, 1, 1, 0, 0, 0, 0, 1), (0, 1, 1, 0, 0, 0, 1, 0), (0, 1, 1, 0, 0, 0, 1, 1), (0, 1, 1, 0, 0, 1, 0, 0), (0, 1, 1, 0, 0, 1, 0, 1), (0, 1, 1, 0, 0, 1, 1, 0), (0, 1, 1, 0, 0, 1, 1, 1), (0, 1, 1, 0, 1, 0, 0, 0), (0, 1, 1, 0, 1, 0, 0, 1), (0, 1, 1, 0, 1, 0, 1, 0), (0, 1, 1, 0, 1, 0, 1, 1), (0, 1, 1, 0, 1, 1, 0, 0), (0, 1, 1, 0, 1, 1, 0, 1), (0, 1, 1, 0, 1, 1, 1, 0), (0, 1, 1, 0, 1, 1, 1, 1), (0, 1, 1, 1, 0, 0, 0, 0), (0, 1, 1, 1, 0, 0, 0, 1), (0, 1, 1, 1, 0, 0, 1, 0), (0, 1, 1, 1, 0, 0, 1, 1), (0, 1, 1, 1, 0, 1, 0, 0), (0, 1, 1, 1, 0, 1, 0, 1), (0, 1, 1, 1, 0, 1, 1, 0), (0, 1, 1, 1, 0, 1, 1, 1), (0, 1, 1, 1, 1, 0, 0, 0), (0, 1, 1, 1, 1, 0, 0, 1), (0, 1, 1, 1, 1, 0, 1, 0), (0, 1, 1, 1, 1, 0, 1, 1), (0, 1, 1, 1, 1, 1, 0, 0), (0, 1, 1, 1, 1, 1, 0, 1), (0, 1, 1, 1, 1, 1, 1, 0), (0, 1, 1, 1, 1, 1, 1, 1), (1, 0, 0, 0, 0, 0, 0, 0), (1, 0, 0, 0, 0, 0, 0, 1), (1, 0, 0, 0, 0, 0, 1, 0), (1, 0, 0, 0, 0, 0, 1, 1), (1, 0, 0, 0, 0, 1, 0, 0), (1, 0, 0, 0, 0, 1, 0, 1), (1, 0, 0, 0, 0, 1, 1, 0), (1, 0, 0, 0, 0, 1, 1, 1), (1, 0, 0, 0, 1, 0, 0, 0), (1, 0, 0, 0, 1, 0, 0, 1), (1, 0, 0, 0, 1, 0, 1, 0), (1, 0, 0, 0, 1, 0, 1, 1), (1, 0, 0, 0, 1, 1, 0, 0), (1, 0, 0, 0, 1, 1, 0, 1), (1, 0, 0, 0, 1, 1, 1, 0), (1, 0, 0, 0, 1, 1, 1, 1), (1, 0, 0, 1, 0, 0, 0, 0), (1, 0, 0, 1, 0, 0, 0, 1), (1, 0, 0, 1, 0, 0, 1, 0), (1, 0, 0, 1, 0, 0, 1, 1), (1, 0, 0, 1, 0, 1, 0, 0), (1, 0, 0, 1, 0, 1, 0, 1), (1, 0, 0, 1, 0, 1, 1, 0), (1, 0, 0, 1, 0, 1, 1, 1), (1, 0, 0, 1, 1, 0, 0, 0), (1, 0, 0, 1, 1, 0, 0, 1), (1, 0, 0, 1, 1, 0, 1, 0), (1, 0, 0, 1, 1, 0, 1, 1), (1, 0, 0, 1, 1, 1, 0, 0), (1, 0, 0, 1, 1, 1, 0, 1), (1, 0, 0, 1, 1, 1, 1, 0), (1, 0, 0, 1, 1, 1, 1, 1), (1, 0, 1, 0, 0, 0, 0, 0), (1, 0, 1, 0, 0, 0, 0, 1), (1, 0, 1, 0, 0, 0, 1, 0), (1, 0, 1, 0, 0, 0, 1, 1), (1, 0, 1, 0, 0, 1, 0, 0), (1, 0, 1, 0, 0, 1, 0, 1), (1, 0, 1, 0, 0, 1, 1, 0), (1, 0, 1, 0, 0, 1, 1, 1), (1, 0, 1, 0, 1, 0, 0, 0), (1, 0, 1, 0, 1, 0, 0, 1), (1, 0, 1, 0, 1, 0, 1, 0), (1, 0, 1, 0, 1, 0, 1, 1), (1, 0, 1, 0, 1, 1, 0, 0), (1, 0, 1, 0, 1, 1, 0, 1), (1, 0, 1, 0, 1, 1, 1, 0), (1, 0, 1, 0, 1, 1, 1, 1), (1, 0, 1, 1, 0, 0, 0, 0), (1, 0, 1, 1, 0, 0, 0, 1), (1, 0, 1, 1, 0, 0, 1, 0), (1, 0, 1, 1, 0, 0, 1, 1), (1, 0, 1, 1, 0, 1, 0, 0), (1, 0, 1, 1, 0, 1, 0, 1), (1, 0, 1, 1, 0, 1, 1, 0), (1, 0, 1, 1, 0, 1, 1, 1), (1, 0, 1, 1, 1, 0, 0, 0), (1, 0, 1, 1, 1, 0, 0, 1), (1, 0, 1, 1, 1, 0, 1, 0), (1, 0, 1, 1, 1, 0, 1, 1), (1, 0, 1, 1, 1, 1, 0, 0), (1, 0, 1, 1, 1, 1, 0, 1), (1, 0, 1, 1, 1, 1, 1, 0), (1, 0, 1, 1, 1, 1, 1, 1), (1, 1, 0, 0, 0, 0, 0, 0), (1, 1, 0, 0, 0, 0, 0, 1), (1, 1, 0, 0, 0, 0, 1, 0), (1, 1, 0, 0, 0, 0, 1, 1), (1, 1, 0, 0, 0, 1, 0, 0), (1, 1, 0, 0, 0, 1, 0, 1), (1, 1, 0, 0, 0, 1, 1, 0), (1, 1, 0, 0, 0, 1, 1, 1), (1, 1, 0, 0, 1, 0, 0, 0), (1, 1, 0, 0, 1, 0, 0, 1), (1, 1, 0, 0, 1, 0, 1, 0), (1, 1, 0, 0, 1, 0, 1, 1), (1, 1, 0, 0, 1, 1, 0, 0), (1, 1, 0, 0, 1, 1, 0, 1), (1, 1, 0, 0, 1, 1, 1, 0), (1, 1, 0, 0, 1, 1, 1, 1), (1, 1, 0, 1, 0, 0, 0, 0), (1, 1, 0, 1, 0, 0, 0, 1), (1, 1, 0, 1, 0, 0, 1, 0), (1, 1, 0, 1, 0, 0, 1, 1), (1, 1, 0, 1, 0, 1, 0, 0), (1, 1, 0, 1, 0, 1, 0, 1), (1, 1, 0, 1, 0, 1, 1, 0), (1, 1, 0, 1, 0, 1, 1, 1), (1, 1, 0, 1, 1, 0, 0, 0), (1, 1, 0, 1, 1, 0, 0, 1), (1, 1, 0, 1, 1, 0, 1, 0), (1, 1, 0, 1, 1, 0, 1, 1), (1, 1, 0, 1, 1, 1, 0, 0), (1, 1, 0, 1, 1, 1, 0, 1), (1, 1, 0, 1, 1, 1, 1, 0), (1, 1, 0, 1, 1, 1, 1, 1), (1, 1, 1, 0, 0, 0, 0, 0), (1, 1, 1, 0, 0, 0, 0, 1), (1, 1, 1, 0, 0, 0, 1, 0), (1, 1, 1, 0, 0, 0, 1, 1), (1, 1, 1, 0, 0, 1, 0, 0), (1, 1, 1, 0, 0, 1, 0, 1), (1, 1, 1, 0, 0, 1, 1, 0), (1, 1, 1, 0, 0, 1, 1, 1), (1, 1, 1, 0, 1, 0, 0, 0), (1, 1, 1, 0, 1, 0, 0, 1), (1, 1, 1, 0, 1, 0, 1, 0), (1, 1, 1, 0, 1, 0, 1, 1), (1, 1, 1, 0, 1, 1, 0, 0), (1, 1, 1, 0, 1, 1, 0, 1), (1, 1, 1, 0, 1, 1, 1, 0), (1, 1, 1, 0, 1, 1, 1, 1), (1, 1, 1, 1, 0, 0, 0, 0), (1, 1, 1, 1, 0, 0, 0, 1), (1, 1, 1, 1, 0, 0, 1, 0), (1, 1, 1, 1, 0, 0, 1, 1), (1, 1, 1, 1, 0, 1, 0, 0), (1, 1, 1, 1, 0, 1, 0, 1), (1, 1, 1, 1, 0, 1, 1, 0), (1, 1, 1, 1, 0, 1, 1, 1), (1, 1, 1, 1, 1, 0, 0, 0), (1, 1, 1, 1, 1, 0, 0, 1), (1, 1, 1, 1, 1, 0, 1, 0), (1, 1, 1, 1, 1, 0, 1, 1), (1, 1, 1, 1, 1, 1, 0, 0), (1, 1, 1, 1, 1, 1, 0, 1), (1, 1, 1, 1, 1, 1, 1, 0), (1, 1, 1, 1, 1, 1, 1, 1)]\n"
     ]
    }
   ],
   "source": [
    "import itertools\n",
    "lst = list(itertools.product([0, 1], repeat=8))\n",
    "print(lst)"
   ]
  },
  {
   "cell_type": "code",
   "execution_count": 25,
   "metadata": {},
   "outputs": [
    {
     "name": "stdout",
     "output_type": "stream",
     "text": [
      "         country    capital    area  population\n",
      "BR        Brazil   Brasilia   8.516      200.40\n",
      "RU        Russia     Moscow  17.100      143.50\n",
      "IN         India  New Delhi   3.286     1252.00\n",
      "CH         China    Beijing   9.597     1357.00\n",
      "SA  South Africa   Pretoria   1.221       52.98\n",
      "BR          Brazil\n",
      "RU          Russia\n",
      "IN           India\n",
      "CH           China\n",
      "SA    South Africa\n",
      "Name: country, dtype: object\n",
      "         country\n",
      "BR        Brazil\n",
      "RU        Russia\n",
      "IN         India\n",
      "CH         China\n",
      "SA  South Africa\n",
      "         country    capital\n",
      "BR        Brazil   Brasilia\n",
      "RU        Russia     Moscow\n",
      "IN         India  New Delhi\n",
      "CH         China    Beijing\n",
      "SA  South Africa   Pretoria\n",
      "   country    capital    area  population\n",
      "RU  Russia     Moscow  17.100       143.5\n",
      "IN   India  New Delhi   3.286      1252.0\n",
      "CH   China    Beijing   9.597      1357.0\n",
      "<class 'pandas.core.frame.DataFrame'>\n",
      "country       Russia\n",
      "capital       Moscow\n",
      "area            17.1\n",
      "population     143.5\n",
      "Name: RU, dtype: object\n",
      "   country capital  area  population\n",
      "RU  Russia  Moscow  17.1       143.5\n",
      "   country    capital    area  population\n",
      "RU  Russia     Moscow  17.100       143.5\n",
      "IN   India  New Delhi   3.286      1252.0\n",
      "CH   China    Beijing   9.597      1357.0\n",
      "   country    capital\n",
      "RU  Russia     Moscow\n",
      "IN   India  New Delhi\n",
      "CH   China    Beijing\n",
      "         country    capital\n",
      "BR        Brazil   Brasilia\n",
      "RU        Russia     Moscow\n",
      "IN         India  New Delhi\n",
      "CH         China    Beijing\n",
      "SA  South Africa   Pretoria\n",
      "   country capital  area  population\n",
      "RU  Russia  Moscow  17.1       143.5\n",
      "   country    capital\n",
      "RU  Russia     Moscow\n",
      "IN   India  New Delhi\n",
      "CH   China    Beijing\n"
     ]
    }
   ],
   "source": [
    "#working with brics data\n",
    "import pandas as pd\n",
    "brics = pd.read_csv(\"/home/ansuman/Desktop/programs_glycan/brics.csv\", index_col = 0)\n",
    "print(brics)\n",
    "#column access as 1d labelled array\n",
    "print(brics[\"country\"])\n",
    "type(brics[\"country\"])\n",
    "\n",
    "#column access as a dataframe\n",
    "print(brics[[\"country\"]])\n",
    "type(brics[[\"country\"]])\n",
    "print(brics[[\"country\", \"capital\"]])\n",
    "#row access\n",
    "print(brics[1:4])\n",
    "print(type(brics[1:4]))\n",
    "#row access loc as panda series and dataframe\n",
    "print(brics.loc[\"RU\"])\n",
    "print(brics.loc[[\"RU\"]])\n",
    "print(brics.loc[[\"RU\", \"IN\", \"CH\"]])\n",
    "# row and column loc\n",
    "print(brics.loc[[\"RU\", \"IN\", \"CH\"], [\"country\",\"capital\"]])\n",
    "print(brics.loc[:, [\"country\",\"capital\"]])\n",
    "# row and column iloc\n",
    "print(brics.iloc[[1]])\n",
    "print(brics.iloc[[1,2,3],[0,1]])\n",
    "print(brics.loc[:, [\"country\", \"capital\"]])\n",
    "print(brics.iloc[:, [0,1]])\n"
   ]
  },
  {
   "cell_type": "code",
   "execution_count": 6,
   "metadata": {},
   "outputs": [
    {
     "name": "stdout",
     "output_type": "stream",
     "text": [
      "False\n",
      "True\n",
      "False\n",
      "True\n",
      "False\n",
      "True\n",
      "True\n",
      "[ True  True False False]\n",
      "[False  True  True False]\n",
      "   country   capital    area  population\n",
      "BR  Brazil  Brasilia   8.516       200.4\n",
      "RU  Russia    Moscow  17.100       143.5\n",
      "CH   China   Beijing   9.597      1357.0\n"
     ]
    },
    {
     "data": {
      "text/html": [
       "<div>\n",
       "<style>\n",
       "    .dataframe thead tr:only-child th {\n",
       "        text-align: right;\n",
       "    }\n",
       "\n",
       "    .dataframe thead th {\n",
       "        text-align: left;\n",
       "    }\n",
       "\n",
       "    .dataframe tbody tr th {\n",
       "        vertical-align: top;\n",
       "    }\n",
       "</style>\n",
       "<table border=\"1\" class=\"dataframe\">\n",
       "  <thead>\n",
       "    <tr style=\"text-align: right;\">\n",
       "      <th></th>\n",
       "      <th>country</th>\n",
       "      <th>capital</th>\n",
       "      <th>area</th>\n",
       "      <th>population</th>\n",
       "    </tr>\n",
       "  </thead>\n",
       "  <tbody>\n",
       "    <tr>\n",
       "      <th>BR</th>\n",
       "      <td>Brazil</td>\n",
       "      <td>Brasilia</td>\n",
       "      <td>8.516</td>\n",
       "      <td>200.4</td>\n",
       "    </tr>\n",
       "    <tr>\n",
       "      <th>CH</th>\n",
       "      <td>China</td>\n",
       "      <td>Beijing</td>\n",
       "      <td>9.597</td>\n",
       "      <td>1357.0</td>\n",
       "    </tr>\n",
       "  </tbody>\n",
       "</table>\n",
       "</div>"
      ],
      "text/plain": [
       "   country   capital   area  population\n",
       "BR  Brazil  Brasilia  8.516       200.4\n",
       "CH   China   Beijing  9.597      1357.0"
      ]
     },
     "execution_count": 6,
     "metadata": {},
     "output_type": "execute_result"
    }
   ],
   "source": [
    "#comparison operator\n",
    "# Comparison of booleans\n",
    "print(True == False)\n",
    "\n",
    "# Comparison of integers\n",
    "print(-5*15 != 75)\n",
    "\n",
    "# Comparison of strings\n",
    "print('pyscript' == 'PyScript')\n",
    "\n",
    "# Compare a boolean with an integer\n",
    "print(True == 1)\n",
    "\n",
    "# Comparison of integers\n",
    "x = -3 * 6\n",
    "print(x>= -10)\n",
    "\n",
    "# Comparison of strings\n",
    "y = \"test\"\n",
    "print('test'<= y)\n",
    "\n",
    "# Comparison of booleans\n",
    "print(True>False)\n",
    "\n",
    "# Create arrays\n",
    "import numpy as np\n",
    "my_house = np.array([18.0, 20.0, 10.75, 9.50])\n",
    "your_house = np.array([14.0, 24.0, 14.25, 9.0])\n",
    "\n",
    "# my_house greater than or equal to 18\n",
    "print(my_house>=18)\n",
    "\n",
    "# my_house less than your_house\n",
    "print(my_house<your_house)\n",
    "\n",
    "\n",
    "#Filtering Pandas DataFrame\n",
    "import pandas as pd\n",
    "brics = pd.read_csv(\"/home/ansuman/Desktop/programs_glycan/brics.csv\", index_col = 0)\n",
    "#Select countries with area over 8 million sqkm other options brics.loc[:,\"area\"], brics.iloc[:,2]\n",
    "is_huge = brics[\"area\"] > 8\n",
    "print(brics[is_huge]) #print(brics[brics['area']>8])\n",
    "\n",
    "#using numpy array and boolean operator\n",
    "import numpy as np\n",
    "brics[np.logical_and(brics[\"area\"] > 8, brics[\"area\"] < 10)]"
   ]
  },
  {
   "cell_type": "code",
   "execution_count": 7,
   "metadata": {},
   "outputs": [
    {
     "name": "stdout",
     "output_type": "stream",
     "text": [
      "False\n",
      "True\n",
      "True\n",
      "[False  True False  True]\n",
      "[False False False  True]\n"
     ]
    }
   ],
   "source": [
    "#boolean operator\n",
    "my_kitchen = 18.0\n",
    "your_kitchen = 14.0\n",
    "print(my_kitchen > 10 and my_kitchen < 18)\n",
    "print(my_kitchen < 14 or my_kitchen > 17)\n",
    "print(my_kitchen*2 < your_kitchen*3)\n",
    "#on numpy array\n",
    "# Create arrays\n",
    "import numpy as np\n",
    "my_house = np.array([18.0, 20.0, 10.75, 9.50])\n",
    "your_house = np.array([14.0, 24.0, 14.25, 9.0])\n",
    "\n",
    "# my_house greater than 18.5 or smaller than 10\n",
    "print(np.logical_or(my_house>18.5, my_house<10))\n",
    "\n",
    "# Both my_house and your_house smaller than 11\n",
    "print(np.logical_and(my_house<11, your_house<11))\n"
   ]
  },
  {
   "cell_type": "code",
   "execution_count": 2,
   "metadata": {},
   "outputs": [
    {
     "name": "stdout",
     "output_type": "stream",
     "text": [
      "z is even\n",
      "z is odd\n",
      "z is divisible by 2\n",
      "looking around in the kitchen.\n",
      "pretty small.\n",
      "looking around in the bedroom.\n",
      "medium size, nice!\n"
     ]
    }
   ],
   "source": [
    "# 1) conditional statement if, else, elif\n",
    "z = 4\n",
    "if z % 2 == 0 :\n",
    "    print (\"z is even\")\n",
    "    \n",
    "#else\n",
    "z = 5\n",
    "False\n",
    "if z % 2 == 0 :\n",
    "    print(\"z is even\")\n",
    "else :\n",
    "    print(\"z is odd\")\n",
    "    \n",
    "#elif\n",
    "z = 6\n",
    "if z % 2 == 0 :\n",
    "    print(\"z is divisible by 2\")\n",
    "elif z % 3 == 0 :\n",
    "    print(\"z is divisible by 3\")\n",
    "else :\n",
    "    print(\"z is neither divisible by 2 nor by 3\")\n",
    "\n",
    "# 2) another example    \n",
    "# Define variables\n",
    "room = \"kit\"\n",
    "area = 14.0\n",
    "\n",
    "# if-else construct for room\n",
    "if room == \"kit\" :\n",
    "    print(\"looking around in the kitchen.\")\n",
    "else :\n",
    "    print(\"looking around elsewhere.\")\n",
    "\n",
    "# if-else construct for area\n",
    "if area > 15 :\n",
    "    print(\"big place!\")\n",
    "else :\n",
    "    print(\"pretty small.\")\n",
    "\n",
    "# 3) example with elif\n",
    "# Define variables\n",
    "room = \"bed\"\n",
    "area = 14.0\n",
    "\n",
    "# if-elif-else construct for room\n",
    "if room == \"kit\" :\n",
    "    print(\"looking around in the kitchen.\")\n",
    "elif room == \"bed\":\n",
    "    print(\"looking around in the bedroom.\")\n",
    "else :\n",
    "    print(\"looking around elsewhere.\")\n",
    "\n",
    "# if-elif-else construct for area\n",
    "if area > 15 :\n",
    "    print(\"big place!\")\n",
    "elif area > 10 :\n",
    "    print('medium size, nice!')\n",
    "else :\n",
    "    print(\"pretty small.\")\n",
    "\n",
    "\n"
   ]
  },
  {
   "cell_type": "code",
   "execution_count": 8,
   "metadata": {},
   "outputs": [
    {
     "name": "stdout",
     "output_type": "stream",
     "text": [
      "12.5\n",
      "3.125\n",
      "0.78125\n",
      "1\n",
      "2\n",
      "3\n"
     ]
    }
   ],
   "source": [
    "#while loop\n",
    "# a) error minimization\n",
    "error = 50.0\n",
    "while error > 1 :\n",
    "    error = error / 4\n",
    "    print(error)\n",
    "    \n",
    "# b) \n",
    "x = 1\n",
    "while x < 4 :\n",
    "    print(x)\n",
    "    x = x + 1\n",
    "    \n",
    "# c)\n",
    "# Initialize offset\n",
    "offset = 8\n",
    "\n",
    "# Code the while loop\n",
    "while offset != 0 :\n",
    "    print(\"correcting...\")\n",
    "    offset = offset -1 \n",
    "    print(offset)\n",
    "    \n",
    "# d)\n",
    "# Initialize offset\n",
    "offset = -6\n",
    "\n",
    "# Code the while loop\n",
    "while offset != 0 :\n",
    "    print(\"correcting...\")\n",
    "    if offset > 0 :\n",
    "        offset = offset - 1\n",
    "    else :\n",
    "        offset = offset + 1\n",
    "    print(offset)\n",
    "    \n"
   ]
  },
  {
   "cell_type": "code",
   "execution_count": 18,
   "metadata": {},
   "outputs": [
    {
     "name": "stdout",
     "output_type": "stream",
     "text": [
      "1.71\n",
      "1.82\n",
      "1.67\n",
      "1.59\n",
      "11.25\n",
      "18.0\n",
      "20.0\n",
      "10.75\n",
      "9.5\n",
      "room 0: 11.25\n",
      "room 1: 11.25\n",
      "room 1: 18.0\n",
      "room 2: 18.0\n",
      "room 2: 20.0\n",
      "room 3: 20.0\n",
      "room 3: 10.75\n",
      "room 4: 10.75\n",
      "room 4: 9.5\n",
      "room 5: 9.5\n",
      "the hallway is 11.25 sqm\n",
      "the kitchen is 18.0 sqm\n",
      "the living room is 20.0 sqm\n",
      "the bedroom is 10.75 sqm\n",
      "the bathroom is 9.5 sqm\n",
      "afghanistan -- 30.55\n",
      "albania -- 2.77\n",
      "algeria -- 39.21\n",
      "the capital of italy is rome\n",
      "the capital of poland is warsaw\n",
      "the capital of france is paris\n",
      "the capital of austria is vienna\n",
      "the capital of germany is berlin\n",
      "the capital of norway is oslo\n",
      "the capital of spain is madrid\n",
      "21.8517157272\n",
      "20.9750566893\n",
      "21.7502821381\n",
      "24.7473474987\n",
      "21.4412783621\n",
      "1.73\n",
      "1.68\n",
      "1.71\n",
      "1.89\n",
      "1.79\n",
      "65.4\n",
      "59.2\n",
      "63.6\n",
      "88.4\n",
      "68.7\n"
     ]
    }
   ],
   "source": [
    "# for loop\n",
    "#a.\n",
    "fam = [1.71, 1.82, 1.67, 1.59]\n",
    "for height in fam :\n",
    "    print(height)\n",
    "  \n",
    "#b.\n",
    "# areas list\n",
    "areas = [11.25, 18.0, 20.0, 10.75, 9.50]\n",
    "\n",
    "# Code the for loop\n",
    "for area in areas :\n",
    "    print(area)\n",
    "    \n",
    "#c.\n",
    "# areas list\n",
    "areas = [11.25, 18.0, 20.0, 10.75, 9.50]\n",
    "\n",
    "# Change for loop to use enumerate()\n",
    "for index, area in enumerate(areas) :\n",
    "    print(\"room \" + str(index) + \": \" + str(area))\n",
    "    print(\"room \" + str(index+1) + \": \" + str(area))\n",
    "    \n",
    "#d.\n",
    "\n",
    "# house list of lists\n",
    "house = [[\"hallway\", 11.25], \n",
    "         [\"kitchen\", 18.0], \n",
    "         [\"living room\", 20.0], \n",
    "         [\"bedroom\", 10.75], \n",
    "         [\"bathroom\", 9.50]]\n",
    "         \n",
    "# Build a for loop from scratch\n",
    "for x in house :\n",
    "    print(\"the \" + str(x[0]) + \" is \" + str(x[1]) + \" sqm\")\n",
    "    \n",
    "#e. dictionary\n",
    "world = { \"afghanistan\":30.55,\n",
    "\"albania\":2.77,\n",
    "\"algeria\":39.21 }\n",
    "for key, value in world .items() :\n",
    "    print(key + \" -- \" + str(value))\n",
    "    \n",
    "#another example\n",
    "\n",
    "# Definition of dictionary\n",
    "europe = {'spain':'madrid', 'france':'paris', 'germany':'berlin',\n",
    "          'norway':'oslo', 'italy':'rome', 'poland':'warsaw', 'austria':'vienna' }\n",
    "          \n",
    "# Iterate over europe\n",
    "for key, value in europe.items() :\n",
    "    print(\"the capital of \" + key + \" is \" + value )\n",
    "    \n",
    "    \n",
    "\n",
    "#f. numpy 1d and 2d array\n",
    "\n",
    "import numpy as np\n",
    "np_height = np.array([1.73, 1.68, 1.71, 1.89, 1.79])\n",
    "np_weight = np.array([65.4, 59.2, 63.6, 88.4, 68.7])\n",
    "bmi = np_weight / np_height ** 2\n",
    "for val in bmi :\n",
    "    print(val)\n",
    "    \n",
    "import numpy as np\n",
    "np_height = np.array([1.73, 1.68, 1.71, 1.89, 1.79])\n",
    "np_weight = np.array([65.4, 59.2, 63.6, 88.4, 68.7])\n",
    "meas = np.array([np_height, np_weight])\n",
    "for val in np.nditer(meas) :\n",
    "    print(val)"
   ]
  },
  {
   "cell_type": "code",
   "execution_count": 7,
   "metadata": {},
   "outputs": [
    {
     "name": "stdout",
     "output_type": "stream",
     "text": [
      "BR\n",
      "country         Brazil\n",
      "capital       Brasilia\n",
      "area             8.516\n",
      "population       200.4\n",
      "Name: BR, dtype: object\n",
      "RU\n",
      "country       Russia\n",
      "capital       Moscow\n",
      "area            17.1\n",
      "population     143.5\n",
      "Name: RU, dtype: object\n",
      "IN\n",
      "country           India\n",
      "capital       New Delhi\n",
      "area              3.286\n",
      "population         1252\n",
      "Name: IN, dtype: object\n",
      "CH\n",
      "country         China\n",
      "capital       Beijing\n",
      "area            9.597\n",
      "population       1357\n",
      "Name: CH, dtype: object\n",
      "SA\n",
      "country       South Africa\n",
      "capital           Pretoria\n",
      "area                 1.221\n",
      "population           52.98\n",
      "Name: SA, dtype: object\n",
      "BR: Brasilia\n",
      "RU: Moscow\n",
      "IN: New Delhi\n",
      "CH: Beijing\n",
      "SA: Pretoria\n",
      "         country    capital    area  population  name_length\n",
      "BR        Brazil   Brasilia   8.516      200.40          6.0\n",
      "RU        Russia     Moscow  17.100      143.50          NaN\n",
      "IN         India  New Delhi   3.286     1252.00          NaN\n",
      "CH         China    Beijing   9.597     1357.00          NaN\n",
      "SA  South Africa   Pretoria   1.221       52.98          NaN\n",
      "         country    capital    area  population  name_length\n",
      "BR        Brazil   Brasilia   8.516      200.40          6.0\n",
      "RU        Russia     Moscow  17.100      143.50          6.0\n",
      "IN         India  New Delhi   3.286     1252.00          NaN\n",
      "CH         China    Beijing   9.597     1357.00          NaN\n",
      "SA  South Africa   Pretoria   1.221       52.98          NaN\n",
      "         country    capital    area  population  name_length\n",
      "BR        Brazil   Brasilia   8.516      200.40          6.0\n",
      "RU        Russia     Moscow  17.100      143.50          6.0\n",
      "IN         India  New Delhi   3.286     1252.00          5.0\n",
      "CH         China    Beijing   9.597     1357.00          NaN\n",
      "SA  South Africa   Pretoria   1.221       52.98          NaN\n",
      "         country    capital    area  population  name_length\n",
      "BR        Brazil   Brasilia   8.516      200.40          6.0\n",
      "RU        Russia     Moscow  17.100      143.50          6.0\n",
      "IN         India  New Delhi   3.286     1252.00          5.0\n",
      "CH         China    Beijing   9.597     1357.00          5.0\n",
      "SA  South Africa   Pretoria   1.221       52.98          NaN\n",
      "         country    capital    area  population  name_length\n",
      "BR        Brazil   Brasilia   8.516      200.40          6.0\n",
      "RU        Russia     Moscow  17.100      143.50          6.0\n",
      "IN         India  New Delhi   3.286     1252.00          5.0\n",
      "CH         China    Beijing   9.597     1357.00          5.0\n",
      "SA  South Africa   Pretoria   1.221       52.98         12.0\n",
      "         country    capital    area  population COUNTRY\n",
      "BR        Brazil   Brasilia   8.516      200.40  BRAZIL\n",
      "RU        Russia     Moscow  17.100      143.50     NaN\n",
      "IN         India  New Delhi   3.286     1252.00     NaN\n",
      "CH         China    Beijing   9.597     1357.00     NaN\n",
      "SA  South Africa   Pretoria   1.221       52.98     NaN\n",
      "         country    capital    area  population COUNTRY\n",
      "BR        Brazil   Brasilia   8.516      200.40  BRAZIL\n",
      "RU        Russia     Moscow  17.100      143.50  RUSSIA\n",
      "IN         India  New Delhi   3.286     1252.00     NaN\n",
      "CH         China    Beijing   9.597     1357.00     NaN\n",
      "SA  South Africa   Pretoria   1.221       52.98     NaN\n",
      "         country    capital    area  population COUNTRY\n",
      "BR        Brazil   Brasilia   8.516      200.40  BRAZIL\n",
      "RU        Russia     Moscow  17.100      143.50  RUSSIA\n",
      "IN         India  New Delhi   3.286     1252.00   INDIA\n",
      "CH         China    Beijing   9.597     1357.00     NaN\n",
      "SA  South Africa   Pretoria   1.221       52.98     NaN\n",
      "         country    capital    area  population COUNTRY\n",
      "BR        Brazil   Brasilia   8.516      200.40  BRAZIL\n",
      "RU        Russia     Moscow  17.100      143.50  RUSSIA\n",
      "IN         India  New Delhi   3.286     1252.00   INDIA\n",
      "CH         China    Beijing   9.597     1357.00   CHINA\n",
      "SA  South Africa   Pretoria   1.221       52.98     NaN\n",
      "         country    capital    area  population       COUNTRY\n",
      "BR        Brazil   Brasilia   8.516      200.40        BRAZIL\n",
      "RU        Russia     Moscow  17.100      143.50        RUSSIA\n",
      "IN         India  New Delhi   3.286     1252.00         INDIA\n",
      "CH         China    Beijing   9.597     1357.00         CHINA\n",
      "SA  South Africa   Pretoria   1.221       52.98  SOUTH AFRICA\n",
      "         country    capital    area  population  name_length\n",
      "BR        Brazil   Brasilia   8.516      200.40            6\n",
      "RU        Russia     Moscow  17.100      143.50            6\n",
      "IN         India  New Delhi   3.286     1252.00            5\n",
      "CH         China    Beijing   9.597     1357.00            5\n",
      "SA  South Africa   Pretoria   1.221       52.98           12\n",
      "         country    capital    area  population   name_length\n",
      "BR        Brazil   Brasilia   8.516      200.40        BRAZIL\n",
      "RU        Russia     Moscow  17.100      143.50        RUSSIA\n",
      "IN         India  New Delhi   3.286     1252.00         INDIA\n",
      "CH         China    Beijing   9.597     1357.00         CHINA\n",
      "SA  South Africa   Pretoria   1.221       52.98  SOUTH AFRICA\n"
     ]
    }
   ],
   "source": [
    "#g. for loop on pandas dataframe, explicitly mention that iterate over rows, for first iteration lab is BR and row is\n",
    "#entire panda series, Used in a for loop, every observation is iterated over and on every iteration the row label and \n",
    "#actual row contents are available:\n",
    "\n",
    "import pandas as pd\n",
    "brics = pd.read_csv(\"/home/ansuman/Desktop/programs_glycan/brics.csv\", index_col = 0)\n",
    "for lab, row in brics.iterrows() :\n",
    "        print(lab)\n",
    "        print(row)\n",
    "\n",
    "#printing only one column with customized output        \n",
    "import pandas as pd\n",
    "brics = pd.read_csv(\"/home/ansuman/Desktop/programs_glycan/brics.csv\", index_col = 0)\n",
    "for lab, row in brics.iterrows() :\n",
    "        print(lab + \": \" + row[\"capital\"])\n",
    "        \n",
    "#adding an extra column depicting the number of alphabets each country name has\n",
    "import pandas as pd\n",
    "brics = pd.read_csv(\"/home/ansuman/Desktop/programs_glycan/brics.csv\", index_col = 0)\n",
    "for lab, row in brics.iterrows() :\n",
    "    brics.loc[lab, \"name_length\"] = len( row[\"country\"] )\n",
    "    print(brics)\n",
    "    \n",
    "#adding an extra column using upper\n",
    "import pandas as pd\n",
    "brics = pd.read_csv(\"/home/ansuman/Desktop/programs_glycan/brics.csv\", index_col = 0)\n",
    "for lab, row in brics.iterrows() :\n",
    "    brics.loc[lab, \"COUNTRY\"] = row[\"country\"].upper()\n",
    "    print(brics)\n",
    "    \n",
    "#the above example with another approach\n",
    "import pandas as pd\n",
    "brics = pd.read_csv(\"/home/ansuman/Desktop/programs_glycan/brics.csv\", index_col = 0)\n",
    "brics[\"name_length\"] = brics[\"country\"].apply(len)\n",
    "print(brics)\n",
    "\n",
    "#instead of name length, the names are written in upper case using a method (not a function) upper()\n",
    "import pandas as pd\n",
    "brics = pd.read_csv(\"/home/ansuman/Desktop/programs_glycan/brics.csv\", index_col = 0)\n",
    "brics[\"COUNTRY\"] = brics[\"country\"].apply(str.upper)\n",
    "print(brics)\n",
    "\n"
   ]
  },
  {
   "cell_type": "code",
   "execution_count": 8,
   "metadata": {},
   "outputs": [
    {
     "name": "stdout",
     "output_type": "stream",
     "text": [
      "0\n",
      "heads\n",
      "0.696469185598\n",
      "6\n",
      "3\n"
     ]
    }
   ],
   "source": [
    "#random number generator, simulating the coin flip experiment\n",
    "import numpy as np\n",
    "np.random.seed(123) # first assign the seed\n",
    "coin = np.random.randint(0,2) #generate values 0 and 1 (2 will not be included)\n",
    "print(coin)\n",
    "if coin == 0 :\n",
    "    print(\"heads\")\n",
    "else :\n",
    "    print(\"tails\")\n",
    "    \n",
    "# generate random float\n",
    "import numpy as np\n",
    "np.random.seed(123)\n",
    "print(np.random.rand())\n",
    "\n",
    "#simulate rolling a dice twice\n",
    "import numpy as np\n",
    "np.random.seed(123)\n",
    "print(np.random.randint(1,7))\n",
    "# Use randint() again\n",
    "print(np.random.randint(1,7))"
   ]
  },
  {
   "cell_type": "code",
   "execution_count": 9,
   "metadata": {},
   "outputs": [
    {
     "name": "stdout",
     "output_type": "stream",
     "text": [
      "6\n",
      "53\n"
     ]
    }
   ],
   "source": [
    "# a simulation with a dice\n",
    "#Roll the dice. Use randint() to create the variable dice.\n",
    "#Finish the if-elif-else construct by replacing ___:\n",
    "#If dice is 1 or 2, you go one step down.\n",
    "#if dice is 3, 4 or 5, you go one step up.\n",
    "#Else, you throw the dice again. The number of eyes is the number of steps you go up.\n",
    "#Print out dice and step. Given the value of dice, was step updated correctly?\n",
    "\n",
    "# Import numpy and set seed\n",
    "import numpy as np\n",
    "np.random.seed(123)\n",
    "\n",
    "# Starting step\n",
    "step = 50\n",
    "\n",
    "# Roll the dice\n",
    "dice = np.random.randint(1,7)\n",
    "\n",
    "# Finish the control construct\n",
    "if dice <= 2 :\n",
    "    step = step - 1\n",
    "elif dice <= 5 :\n",
    "    step = step + 1\n",
    "else :\n",
    "    step = step + np.random.randint(1,7)\n",
    "\n",
    "# Print out dice and step\n",
    "print(dice)\n",
    "print(step)\n"
   ]
  },
  {
   "cell_type": "code",
   "execution_count": 18,
   "metadata": {},
   "outputs": [
    {
     "name": "stdout",
     "output_type": "stream",
     "text": [
      "['heads']\n",
      "['heads', 'tails']\n",
      "['heads', 'tails', 'heads']\n",
      "['heads', 'tails', 'heads', 'heads']\n",
      "['heads', 'tails', 'heads', 'heads', 'heads']\n",
      "['heads', 'tails', 'heads', 'heads', 'heads', 'heads']\n",
      "['heads', 'tails', 'heads', 'heads', 'heads', 'heads', 'heads']\n",
      "['heads', 'tails', 'heads', 'heads', 'heads', 'heads', 'heads', 'tails']\n",
      "['heads', 'tails', 'heads', 'heads', 'heads', 'heads', 'heads', 'tails', 'tails']\n",
      "['heads', 'tails', 'heads', 'heads', 'heads', 'heads', 'heads', 'tails', 'tails', 'heads']\n",
      "[0, 0]\n",
      "[0, 0, 1]\n",
      "[0, 0, 1, 1]\n",
      "[0, 0, 1, 1, 1]\n",
      "[0, 0, 1, 1, 1, 1]\n",
      "[0, 0, 1, 1, 1, 1, 1]\n",
      "[0, 0, 1, 1, 1, 1, 1, 1]\n",
      "[0, 0, 1, 1, 1, 1, 1, 1, 2]\n",
      "[0, 0, 1, 1, 1, 1, 1, 1, 2, 3]\n",
      "[0, 0, 1, 1, 1, 1, 1, 1, 2, 3, 3]\n",
      "[0, 3, 4, 5, 4, 5, 6, 7, 6, 5, 4, 3, 2, 1, 0, 0, 1, 6, 5, 4, 5, 4, 5, 6, 7, 8, 9, 8, 9, 8, 9, 10, 11, 12, 11, 15, 16, 15, 16, 15, 16, 17, 18, 19, 20, 21, 22, 25, 26, 27, 28, 33, 34, 38, 39, 38, 39, 40, 39, 40, 41, 43, 44, 45, 44, 43, 44, 45, 44, 43, 44, 45, 47, 46, 45, 46, 45, 46, 47, 48, 50, 49, 50, 51, 52, 53, 54, 53, 52, 53, 52, 53, 54, 53, 56, 57, 58, 59, 58, 59, 60]\n"
     ]
    },
    {
     "data": {
      "image/png": "[encoded data removed]",
      "text/plain": [
       "<matplotlib.figure.Figure at 0x7ff49c14de90>"
      ]
     },
     "metadata": {},
     "output_type": "display_data"
    }
   ],
   "source": [
    "# simulating a random walk\n",
    "# 1.simulate coin flip 10 times and report the outcomes, not a randfom walk because the the outcome does not depend on the \n",
    "#previous step\n",
    "import numpy as np\n",
    "np.random.seed(123)\n",
    "outcomes = []   #initialize empty list 'outcomes'\n",
    "for x in range(10) : #for loop which will be run 10 times by the range function\n",
    "    coin = np.random.randint(0, 2)\n",
    "    if coin == 0 :\n",
    "        outcomes.append(\"heads\") # append the list with str heads by append \n",
    "    else :\n",
    "        outcomes.append(\"tails\")\n",
    "    print(outcomes)\n",
    "    \n",
    "# 2.simulating coin flip as random walk\n",
    "import numpy as np\n",
    "np.random.seed(123)\n",
    "tails = [0]\n",
    "for x in range(10) :  \n",
    "    coin = np.random.randint(0, 2)\n",
    "    tails.append(tails[x] + coin)   #0 corresponds to head and 1 corresponds to tail\n",
    "    print(tails)\n",
    "    \n",
    "# 3.another random walk problem\n",
    "# Import numpy and set seed\n",
    "import numpy as np\n",
    "np.random.seed(123)\n",
    "\n",
    "# Initialize random_walk\n",
    "random_walk = [0]\n",
    "\n",
    "# Complete the ___\n",
    "for x in range(100) :\n",
    "    # Set step: last element in random_walk\n",
    "    step = random_walk[-1]\n",
    "\n",
    "    # Roll the dice\n",
    "    dice = np.random.randint(1,7)\n",
    "\n",
    "    # Determine next step\n",
    "    if dice <= 2:\n",
    "        step = max(0, step - 1) # so that, the value can not go below 0\n",
    "    elif dice <= 5:\n",
    "        step = step + 1\n",
    "    else:\n",
    "        step = step + np.random.randint(1,7)\n",
    "\n",
    "    # append next_step to random_walk\n",
    "    random_walk.append(step)\n",
    "\n",
    "# Print random_walk\n",
    "print(random_walk)\n",
    "#plot the random walk\n",
    "import matplotlib.pyplot as plt\n",
    "plt.plot(random_walk)\n",
    "plt.show()"
   ]
  },
  {
   "cell_type": "code",
   "execution_count": 1,
   "metadata": {
    "collapsed": true
   },
   "outputs": [],
   "source": [
    "#distribution\n",
    "import numpy as np\n",
    "np.random.seed(123)\n",
    "final_tails = []\n",
    "for x in range(10000) :\n",
    "    tails = [0]\n",
    "    for x in range(10) :\n",
    "        coin = np.random.randint(0,2)\n",
    "        tails.append(tails[x] + coin)\n",
    "        final_tails.append(tails[-1])\n",
    "        #print(final_tails)\n",
    "        #plt.hist(final_tails, bins = 10)\n",
    "        #plt.show()"
   ]
  },
  {
   "cell_type": "code",
   "execution_count": 8,
   "metadata": {},
   "outputs": [
    {
     "name": "stdout",
     "output_type": "stream",
     "text": [
      "(0, 1, 1, 0, 0, 1, 1, 0)\n",
      "(0, 0, 0, 1, 0, 1, 1, 1)\n",
      "(1, 1, 0, 0, 0, 0, 0, 0)\n",
      "<type 'tuple'>\n",
      "[[2, 1, 2], [4, 1, 4], [8, 1, 5], [3, 2, 3], [7, 2, 4], [5, 4, 2], [6, 4, 5]]\n"
     ]
    }
   ],
   "source": [
    "#glycan_code\n",
    "import numpy as np\n",
    "import itertools\n",
    "lst = list(itertools.product([0, 1], repeat=8))\n",
    "#print(lst[-1])\n",
    "#x = lst[-1]\n",
    "#print(type(x))\n",
    "import random\n",
    "a = random.choice(lst)\n",
    "b = random.choice(lst)\n",
    "c = random.choice(lst)\n",
    "#random.shuffle(lst)\n",
    "#a = np.array(lst.pop())\n",
    "#b = np.array(lst.pop())\n",
    "#c = np.array(lst.pop())\n",
    "#print(comp_distr)\n",
    "print(a)\n",
    "print(b)\n",
    "print(c)\n",
    "print(type(a))\n",
    "map = []\n",
    "# map.append([1,0,1])   # leave out the first enzyme\n",
    "map.append([2,1,2])\n",
    "map.append([4,1,4])\n",
    "map.append([8,1,5])\n",
    "map.append([3,2,3])\n",
    "map.append([7,2,4])\n",
    "map.append([5,4,2])\n",
    "map.append([6,4,5])\n",
    "print(map)\n",
    "glycan_branch1 = []\n",
    "glycan_branch2 = []\n",
    "\n",
    "\n",
    "\n"
   ]
  },
  {
   "cell_type": "code",
   "execution_count": null,
   "metadata": {
    "collapsed": true
   },
   "outputs": [],
   "source": []
  }
 ],
 "metadata": {
  "kernelspec": {
   "display_name": "Python 2",
   "language": "python",
   "name": "python2"
  },
  "language_info": {
   "codemirror_mode": {
    "name": "ipython",
    "version": 2
   },
   "file_extension": ".py",
   "mimetype": "text/x-python",
   "name": "python",
   "nbconvert_exporter": "python",
   "pygments_lexer": "ipython2",
   "version": "2.7.14"
  }
 },
 "nbformat": 4,
 "nbformat_minor": 2
}
